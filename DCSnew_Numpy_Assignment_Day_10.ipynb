{
  "cells": [
    {
      "cell_type": "markdown",
      "metadata": {
        "id": "v_5a6dEGYukp"
      },
      "source": [
        "# <center> Numpy Basics </center>"
      ]
    },
    {
      "cell_type": "code",
      "execution_count": null,
      "metadata": {
        "id": "NnhU92SsYukv"
      },
      "outputs": [],
      "source": [
        "#import numpy module with alias np\n",
        "\n",
        "import numpy as np"
      ]
    },
    {
      "cell_type": "markdown",
      "metadata": {
        "id": "onEY9HMeYuk0"
      },
      "source": [
        "We can create a NumPy ndarray object by using the array() function.\n",
        "To create an ndarray, we can pass a list, tuple or any array-like object into the array() method, and it will be converted into an ndarray:\n"
      ]
    },
    {
      "cell_type": "code",
      "execution_count": null,
      "metadata": {
        "id": "BCdPh0rqYuk0"
      },
      "outputs": [],
      "source": [
        "# Define a numpy array passing a list with  1,2 and 3 as elements in it\n",
        "\n",
        "a_array=np.array([1,2,3])"
      ]
    },
    {
      "cell_type": "code",
      "execution_count": null,
      "metadata": {
        "id": "up-97mFyYuk1",
        "colab": {
          "base_uri": "https://localhost:8080/"
        },
        "outputId": "faf37c8b-530b-42a6-e235-51511317ad77"
      },
      "outputs": [
        {
          "output_type": "stream",
          "name": "stdout",
          "text": [
            "[1 2 3]\n"
          ]
        }
      ],
      "source": [
        "# print output\n",
        "print(a_array)\n"
      ]
    },
    {
      "cell_type": "markdown",
      "metadata": {
        "id": "I5wC2n70Yuk2"
      },
      "source": [
        "## Dimensions in Arrays\n",
        "\n",
        "Create arrays of different dimentions.\n",
        "\n",
        "a=A numpy array with one single integer 10\n",
        "\n",
        "b=A numpy array passing a list having a list= [1,2,3]\n",
        "\n",
        "c=A numpy array passing nested list having [[1, 2, 3], [4, 5, 6]] as elements\n",
        "\n",
        "d=A numpy array passing nested list having [[[1, 2, 3], [4, 5, 6]], [[1, 2, 3], [4, 5, 6]]] as elements"
      ]
    },
    {
      "cell_type": "code",
      "execution_count": null,
      "metadata": {
        "id": "75VeuGacYuk3"
      },
      "outputs": [],
      "source": [
        "#define a,b,c and d as instructed above\n",
        "\n",
        "a =np.array([10])\n",
        "b = np.array([1,2,3])\n",
        "c = np.array([[1,2,3],[4,5,6]])\n",
        "d = np.array([[[1,2,3],[4,5,6]],[[1,2,3],[4,5,6]]])\n",
        "\n"
      ]
    },
    {
      "cell_type": "markdown",
      "metadata": {
        "id": "qtUQhJgsYuk5"
      },
      "source": [
        "Are you ready to check its dimention? Use ndim attribute on each variable to check its dimention"
      ]
    },
    {
      "cell_type": "code",
      "execution_count": null,
      "metadata": {
        "id": "WqRlO_elYuk6",
        "colab": {
          "base_uri": "https://localhost:8080/"
        },
        "outputId": "47eeba6e-1aa0-4c73-9a18-75e7034ae25c"
      },
      "outputs": [
        {
          "output_type": "stream",
          "name": "stdout",
          "text": [
            "[10]\n",
            "[1 2 3]\n",
            "[[1 2 3]\n",
            " [4 5 6]]\n",
            "[[[1 2 3]\n",
            "  [4 5 6]]\n",
            "\n",
            " [[1 2 3]\n",
            "  [4 5 6]]]\n"
          ]
        }
      ],
      "source": [
        "#print dimentions of a,b, c and d\n",
        "\n",
        "print(a)\n",
        "print(b)\n",
        "print(c)\n",
        "\n",
        "print(d)"
      ]
    },
    {
      "cell_type": "markdown",
      "metadata": {
        "id": "GdfDcthEYuk7"
      },
      "source": [
        "Hey hey. Did you see! you have created 0-D,1-DeprecationWarning, 2-D and 3-D arrays.\n",
        "\n",
        "Lets print there shape as well. You can check shape using shape attribute\n",
        "\n"
      ]
    },
    {
      "cell_type": "code",
      "execution_count": null,
      "metadata": {
        "id": "Dbo7BMcNYuk8",
        "colab": {
          "base_uri": "https://localhost:8080/"
        },
        "outputId": "e6c54643-3072-4691-eb28-9b032ef74d59"
      },
      "outputs": [
        {
          "output_type": "stream",
          "name": "stdout",
          "text": [
            "(1,)\n",
            "(3,)\n",
            "(2, 3)\n",
            "(2, 2, 3)\n"
          ]
        }
      ],
      "source": [
        "# print shape of each a,b ,c and d\n",
        "\n",
        "shape_a=a.shape\n",
        "print(shape_a)\n",
        "shape_b=b.shape\n",
        "print(shape_b)\n",
        "shape_c=c.shape\n",
        "print(shape_c)\n",
        "shape_d=d.shape\n",
        "print(shape_d)\n",
        "\n",
        "\n"
      ]
    },
    {
      "cell_type": "markdown",
      "metadata": {
        "id": "zznIHO2BYuk8"
      },
      "source": [
        "Lets check data type passed in our array. To check data type you can use dtype attribute"
      ]
    },
    {
      "cell_type": "code",
      "execution_count": null,
      "metadata": {
        "id": "IqR87PE-Yuk9",
        "colab": {
          "base_uri": "https://localhost:8080/"
        },
        "outputId": "2721ff28-0c26-4cd9-d277-5cc1cdf2233f"
      },
      "outputs": [
        {
          "output_type": "stream",
          "name": "stdout",
          "text": [
            "int64\n"
          ]
        }
      ],
      "source": [
        "# print data type of c and d\n",
        "shape_a=a.dtype\n",
        "print(shape_a)\n",
        "\n",
        "\n"
      ]
    },
    {
      "cell_type": "code",
      "execution_count": null,
      "metadata": {
        "id": "cmEidey1Yuk9"
      },
      "outputs": [],
      "source": [
        "# Lets check length of array b, using len() function\n",
        "# len(b)"
      ]
    },
    {
      "cell_type": "markdown",
      "metadata": {
        "id": "8k-sX7zmYuk-"
      },
      "source": [
        "Bravo!You have Defined ndarray i.e numpy array in variable a nd b. Also you have successfully learned how to create numpy."
      ]
    },
    {
      "cell_type": "code",
      "source": [],
      "metadata": {
        "id": "R4ylxj2I_Xra"
      },
      "execution_count": null,
      "outputs": []
    },
    {
      "cell_type": "markdown",
      "metadata": {
        "id": "bl8PwahHYuk-"
      },
      "source": [
        "Create two list l1 and l2 where, l1=[10,20,30] and l2=[40,50,60]\n",
        "Also define two numpy arrays l3,l4 where l3 has l1 as element and l4 has l2 as element\n"
      ]
    },
    {
      "cell_type": "code",
      "execution_count": null,
      "metadata": {
        "id": "-cZT6aZlYuk-"
      },
      "outputs": [],
      "source": [
        "# Define l1,l2,l3 and l4 as stated above.\n",
        "l1 = [10,20,30]\n",
        "l2 = [40,50,60]\n",
        "l3 = np.array(l1)\n",
        "l4 = np.array(l2)\n",
        "\n"
      ]
    },
    {
      "cell_type": "code",
      "source": [],
      "metadata": {
        "id": "nU0pV7Hk4wpo"
      },
      "execution_count": null,
      "outputs": []
    },
    {
      "cell_type": "code",
      "execution_count": null,
      "metadata": {
        "id": "SceA6IrwYuk_",
        "colab": {
          "base_uri": "https://localhost:8080/"
        },
        "outputId": "be936397-e190-4e07-da0d-d163953f92e9"
      },
      "outputs": [
        {
          "output_type": "stream",
          "name": "stdout",
          "text": [
            "[ 400 1000 1800]\n"
          ]
        }
      ],
      "source": [
        "\n",
        "new=l3*l4\n",
        "print(new)\n"
      ]
    },
    {
      "cell_type": "markdown",
      "metadata": {
        "id": "CJrqooYWYuk_"
      },
      "source": [
        "Don't worry if still your one line of code is running. Its because your system is calculating total time taken to run your code.\n",
        "\n",
        "Did you notice buddy! time taken to multiply two lists takes more time than multiplyimg two numpy array.\n",
        "Hence proved that numpy arrays are faster than lists.\n",
        "\n",
        "**Fun Fact time!:**\n",
        "\n",
        "You know in many data science interviews it is asked that what is the difference between list and array.<br>\n"
      ]
    },
    {
      "cell_type": "code",
      "execution_count": null,
      "metadata": {
        "id": "BnwTOtdDYulA",
        "colab": {
          "base_uri": "https://localhost:8080/"
        },
        "outputId": "e8438139-d73e-4800-d090-bf8d94e07144"
      },
      "outputs": [
        {
          "output_type": "stream",
          "name": "stdout",
          "text": [
            "[ 1  2  3  4  5  6  7  8  9 10]\n"
          ]
        }
      ],
      "source": [
        "#Create a numpy array using arange with 1 and 11 as parameter in it\n",
        "\n",
        "\n",
        "a=np.arange(1,11)\n",
        "print(a)"
      ]
    },
    {
      "cell_type": "markdown",
      "metadata": {
        "id": "QiuRfP4OYulA"
      },
      "source": [
        "This means using arrange we get evenly spaced values within a given interval. Interval? Yes you can mention interval as well as third parameter in it."
      ]
    },
    {
      "cell_type": "code",
      "execution_count": null,
      "metadata": {
        "id": "TDdTXBZcYulA",
        "colab": {
          "base_uri": "https://localhost:8080/"
        },
        "outputId": "5768c32b-8be1-4db0-e50b-0bd0edb55c96"
      },
      "outputs": [
        {
          "output_type": "stream",
          "name": "stdout",
          "text": [
            "[1 3 5 7 9]\n"
          ]
        }
      ],
      "source": [
        "# Create an array using arange passing 1,11 and 2 as parameter in iter\n",
        "a=np.arange(1,11,2)\n",
        "print(a)\n",
        "\n"
      ]
    },
    {
      "cell_type": "code",
      "execution_count": null,
      "metadata": {
        "id": "IFYEePpeYulA"
      },
      "outputs": [],
      "source": [
        "# create numpy array using eye function with 3 as passed parameter\n",
        "\n",
        "\n"
      ]
    },
    {
      "cell_type": "code",
      "execution_count": null,
      "metadata": {
        "id": "rXpUyqTYYulD",
        "colab": {
          "base_uri": "https://localhost:8080/"
        },
        "outputId": "cef9eeda-02a6-447b-ea9d-98d804dfee0d"
      },
      "outputs": [
        {
          "output_type": "stream",
          "name": "stdout",
          "text": [
            "[ 1  2  3  4  5  6  7  8  9 10 11 12 13 14 15 16]\n"
          ]
        }
      ],
      "source": [
        "# Using arange() to generate numpy array x with numbers between 1 to 16\n",
        "x=np.arange(1,17)\n",
        "print(x)\n",
        "\n"
      ]
    },
    {
      "cell_type": "code",
      "execution_count": null,
      "metadata": {
        "id": "JkQG8RyFYulE",
        "colab": {
          "base_uri": "https://localhost:8080/"
        },
        "outputId": "e81e23e8-6f82-4048-c730-4a5cc3c0e483"
      },
      "outputs": [
        {
          "output_type": "execute_result",
          "data": {
            "text/plain": [
              "array([[ 1,  2,  3,  4,  5,  6,  7,  8],\n",
              "       [ 9, 10, 11, 12, 13, 14, 15, 16]])"
            ]
          },
          "metadata": {},
          "execution_count": 31
        }
      ],
      "source": [
        "# Reshape x with 2 rows and 8 columns\n",
        "\n",
        "x.reshape(2,8)"
      ]
    },
    {
      "cell_type": "markdown",
      "metadata": {
        "id": "Eu-DgBCRYulE"
      },
      "source": [
        "As you can see above that our x changed into 2D matrix\n",
        "\n",
        "2. Reshaping 1-D to 3-D array\n"
      ]
    },
    {
      "cell_type": "code",
      "execution_count": null,
      "metadata": {
        "id": "Ue760dxYYulE",
        "colab": {
          "base_uri": "https://localhost:8080/"
        },
        "outputId": "f2f72b90-21b0-4d6d-fad6-0d527da00315"
      },
      "outputs": [
        {
          "output_type": "execute_result",
          "data": {
            "text/plain": [
              "array([[[ 1,  2],\n",
              "        [ 3,  4],\n",
              "        [ 5,  6],\n",
              "        [ 7,  8]],\n",
              "\n",
              "       [[ 9, 10],\n",
              "        [11, 12],\n",
              "        [13, 14],\n",
              "        [15, 16]]])"
            ]
          },
          "metadata": {},
          "execution_count": 33
        }
      ],
      "source": [
        "# reshaoe x with dimension that will have 2 arrays that contains 4 arrays, each with 2 elements:\n",
        "\n",
        "x.reshape(2,4,2)\n"
      ]
    },
    {
      "cell_type": "code",
      "execution_count": null,
      "metadata": {
        "id": "liRM5zN0YulF",
        "colab": {
          "base_uri": "https://localhost:8080/"
        },
        "outputId": "edafb780-af20-4c93-ee07-d53928e8187c"
      },
      "outputs": [
        {
          "output_type": "stream",
          "name": "stdout",
          "text": [
            "[ 2  4  6  8 10 12 14 16]\n"
          ]
        }
      ],
      "source": [
        "# Create an array a with all even numbers between 1 to 17\n",
        "a = np.arange(2,18,2)\n",
        "print (a)\n"
      ]
    },
    {
      "cell_type": "markdown",
      "source": [],
      "metadata": {
        "id": "pJjZeuSdy7XV"
      }
    },
    {
      "cell_type": "code",
      "execution_count": null,
      "metadata": {
        "id": "GysmjjOQYulF",
        "colab": {
          "base_uri": "https://localhost:8080/"
        },
        "outputId": "1fd6413f-e2ec-4a82-c579-9a9ad811f9ef"
      },
      "outputs": [
        {
          "output_type": "execute_result",
          "data": {
            "text/plain": [
              "6"
            ]
          },
          "metadata": {},
          "execution_count": 36
        }
      ],
      "source": [
        "# Get third element in array a\n",
        "a[2]"
      ]
    },
    {
      "cell_type": "code",
      "execution_count": null,
      "metadata": {
        "id": "QJDw7E2VYulF",
        "colab": {
          "base_uri": "https://localhost:8080/"
        },
        "outputId": "a07da9e9-39d2-4621-c31e-24ceb6b1c049"
      },
      "outputs": [
        {
          "output_type": "stream",
          "name": "stdout",
          "text": [
            "6\n",
            "10\n",
            "14\n"
          ]
        }
      ],
      "source": [
        "#Print 3rd, 5th, and 7th element in array a\n",
        "\n",
        "print(a[2])\n",
        "print(a[4])\n",
        "print(a[6])\n"
      ]
    },
    {
      "cell_type": "markdown",
      "metadata": {
        "id": "6FauyJCQYulF"
      },
      "source": [
        "Lets check the same for 2 D array"
      ]
    },
    {
      "cell_type": "code",
      "execution_count": null,
      "metadata": {
        "id": "yomRzY6aYulF",
        "colab": {
          "base_uri": "https://localhost:8080/"
        },
        "outputId": "f1f2e20d-8c7d-4f8e-e6fc-f34e970723dd"
      },
      "outputs": [
        {
          "output_type": "stream",
          "name": "stdout",
          "text": [
            "[[1 2 3]\n",
            " [4 5 6]\n",
            " [7 8 9]]\n"
          ]
        }
      ],
      "source": [
        "# Define an array 2-D a with [[1,2,3],[4,5,6],[7,8,9]] as its elements.\n",
        "a =np.array([[1,2,3],[4,5,6],[7,8,9]])\n",
        "print(a)\n"
      ]
    },
    {
      "cell_type": "markdown",
      "source": [],
      "metadata": {
        "id": "w5lgzC69zZ_v"
      }
    },
    {
      "cell_type": "code",
      "execution_count": null,
      "metadata": {
        "id": "VTGpLidrYulF",
        "colab": {
          "base_uri": "https://localhost:8080/"
        },
        "outputId": "c73b089d-14b2-4c1d-d15d-201655a8203b"
      },
      "outputs": [
        {
          "output_type": "execute_result",
          "data": {
            "text/plain": [
              "9"
            ]
          },
          "metadata": {},
          "execution_count": 43
        }
      ],
      "source": [
        "# print the 3rd element from the 3rd row of a\n",
        "\n",
        "a[2,2]"
      ]
    },
    {
      "cell_type": "markdown",
      "metadata": {
        "id": "-fPw_4ZBYulF"
      },
      "source": [
        "Well done!\n",
        "\n",
        "Now lets check indexing for 3 D array"
      ]
    },
    {
      "cell_type": "code",
      "execution_count": null,
      "metadata": {
        "id": "VISPaw3PYulG"
      },
      "outputs": [],
      "source": [
        "# Define an array b again with [[[1, 2, 3], [4, 5, 6]], [[7, 8, 9], [10, 11, 12]]] as its elements.\n",
        "b =np.array([[[1,2,3],[4,5,6]],[[7, 8, 9], [10, 11, 12]]])\n",
        "\n"
      ]
    },
    {
      "cell_type": "code",
      "execution_count": null,
      "metadata": {
        "id": "UrFj656mYulG",
        "colab": {
          "base_uri": "https://localhost:8080/"
        },
        "outputId": "d0f236a1-0263-46c5-e36c-ddfabf736504"
      },
      "outputs": [
        {
          "output_type": "stream",
          "name": "stdout",
          "text": [
            "6\n"
          ]
        }
      ],
      "source": [
        "# Print 3rd element from 2nd list which is 1st list in nested list passed. Confusing right? 'a' have nested array.Understand the braket differences.\n",
        "\n",
        "element = b[0][1][2]\n",
        "print(element)\n"
      ]
    },
    {
      "cell_type": "code",
      "execution_count": null,
      "metadata": {
        "id": "9ZadW42fYulG"
      },
      "outputs": [],
      "source": [
        "# Create 1D array\n",
        "\n",
        "arr=np.array([1,2,3,4,5,6,7,8,9,10])\n",
        "\n",
        "\n"
      ]
    },
    {
      "cell_type": "code",
      "execution_count": null,
      "metadata": {
        "id": "fm2dtL6EYulG",
        "colab": {
          "base_uri": "https://localhost:8080/"
        },
        "outputId": "89213a25-9d75-4608-f059-bf273367abcf"
      },
      "outputs": [
        {
          "output_type": "execute_result",
          "data": {
            "text/plain": [
              "array([1, 2, 3, 4, 5])"
            ]
          },
          "metadata": {},
          "execution_count": 48
        }
      ],
      "source": [
        "# Slice elements from 1st to 5th element from the following array:\n",
        "\n",
        "arr[0:5]\n",
        "\n"
      ]
    },
    {
      "cell_type": "markdown",
      "metadata": {
        "id": "ghqluYgMYulG"
      },
      "source": [
        "Note: The result includes the start index, but excludes the end index.\n",
        "\n"
      ]
    },
    {
      "cell_type": "code",
      "execution_count": null,
      "metadata": {
        "id": "g4uVBo1oYulH",
        "colab": {
          "base_uri": "https://localhost:8080/"
        },
        "outputId": "2e147fad-e0ac-4ded-a068-2e228479c7cb"
      },
      "outputs": [
        {
          "output_type": "execute_result",
          "data": {
            "text/plain": [
              "array([ 6,  7,  8,  9, 10])"
            ]
          },
          "metadata": {},
          "execution_count": 50
        }
      ],
      "source": [
        "# Slice elements from index 5 to the end of the array:\n",
        "arr[5:]\n",
        "\n"
      ]
    },
    {
      "cell_type": "code",
      "execution_count": null,
      "metadata": {
        "id": "1t4V3OSaYulH",
        "colab": {
          "base_uri": "https://localhost:8080/"
        },
        "outputId": "42abddd4-726d-495f-e650-df0555d7da15"
      },
      "outputs": [
        {
          "output_type": "execute_result",
          "data": {
            "text/plain": [
              "array([1, 2, 3, 4, 5])"
            ]
          },
          "metadata": {},
          "execution_count": 51
        }
      ],
      "source": [
        "# Slice elements from the beginning to index 5 (not included):\n",
        "\n",
        "arr[:5]\n",
        "\n"
      ]
    },
    {
      "cell_type": "markdown",
      "metadata": {
        "id": "_sk9yNamYulH"
      },
      "source": [
        "**STEP**\n",
        "\n",
        "Use the step value to determine the step of the slicing:"
      ]
    },
    {
      "cell_type": "code",
      "execution_count": null,
      "metadata": {
        "id": "1OXANncfYulH",
        "colab": {
          "base_uri": "https://localhost:8080/"
        },
        "outputId": "4adcf91c-ea95-4939-92d7-b43085d41830"
      },
      "outputs": [
        {
          "output_type": "stream",
          "name": "stdout",
          "text": [
            "[2 4 6]\n"
          ]
        }
      ],
      "source": [
        "# Print every other element from index 1 to index 7:\n",
        "\n",
        "print(arr[1:7:2])\n",
        "\n"
      ]
    },
    {
      "cell_type": "markdown",
      "metadata": {
        "id": "mpk1-Nd2YulH"
      },
      "source": [
        "Did you see? using step you were able to get alternate elements within specified index numbers."
      ]
    },
    {
      "cell_type": "code",
      "execution_count": null,
      "metadata": {
        "id": "HxPLcXudYulH",
        "colab": {
          "base_uri": "https://localhost:8080/"
        },
        "outputId": "28379ef3-5d87-416e-e0fc-1f73136ba3ae"
      },
      "outputs": [
        {
          "output_type": "stream",
          "name": "stdout",
          "text": [
            "[1 3 5 7 9]\n"
          ]
        }
      ],
      "source": [
        "# Return every other element from the entire array arr:\n",
        "\n",
        "\n",
        "result = arr[::2]\n",
        "print(result)"
      ]
    },
    {
      "cell_type": "markdown",
      "metadata": {
        "id": "YJD_N7B_YulM"
      },
      "source": [
        "We hope now you saw the difference between them.\n",
        "\n",
        "Fun fact! you can even use concatenate() function to join 2 arrays along with the axis. If axis is not explicitly passed, it is taken as 0 ie. along column\n",
        "\n",
        "Lets try this function as well"
      ]
    },
    {
      "cell_type": "code",
      "execution_count": 8,
      "metadata": {
        "id": "dbf1xSfeYulN",
        "colab": {
          "base_uri": "https://localhost:8080/"
        },
        "outputId": "f6af8343-1096-4f2c-8bac-8608b88b043c"
      },
      "outputs": [
        {
          "output_type": "stream",
          "name": "stdout",
          "text": [
            "Concatenation along axis 0 (rows):\n",
            " [[1 2]\n",
            " [3 4]\n",
            " [5 6]\n",
            " [7 8]]\n",
            "Concatenation along axis 1 (columns):\n",
            " [[1 2 5 6]\n",
            " [3 4 7 8]]\n"
          ]
        }
      ],
      "source": [
        "##join arr1 and arr2 along columns using concatenate() function\n",
        "\n",
        "arr1 = np.array([[1, 2], [3, 4]])\n",
        "arr2 = np.array([[5, 6], [7, 8]])\n",
        "\n",
        "# Concatenate along axis 0 (rows)\n",
        "result_axis0 = np.concatenate((arr1, arr2), axis=0)\n",
        "print(\"Concatenation along axis 0 (rows):\\n\", result_axis0)\n",
        "\n",
        "# Concatenate along axis 1 (columns)\n",
        "result_axis1 = np.concatenate((arr1, arr2), axis=1)\n",
        "print(\"Concatenation along axis 1 (columns):\\n\", result_axis1)\n",
        "\n"
      ]
    },
    {
      "cell_type": "markdown",
      "metadata": {
        "id": "WKy9Lu4vYulN"
      },
      "source": [
        "## Adding, Insert and delete Numpy array"
      ]
    },
    {
      "cell_type": "markdown",
      "metadata": {
        "id": "_W4bZ70AYulN"
      },
      "source": [
        "You can also add 2 arrays using append() function also. This function appends values to end of array\n",
        "\n",
        "Lets see how"
      ]
    },
    {
      "cell_type": "code",
      "execution_count": 9,
      "metadata": {
        "id": "yC1yIKfPYulN",
        "colab": {
          "base_uri": "https://localhost:8080/"
        },
        "outputId": "0ef2fe0d-9671-4855-b11f-04e0f896e6b4"
      },
      "outputs": [
        {
          "output_type": "stream",
          "name": "stdout",
          "text": [
            "Appending arr2 to arr1 along axis 0:\n",
            " [[1 2]\n",
            " [3 4]\n",
            " [5 6]\n",
            " [7 8]]\n",
            "\n",
            "Appending arr2 to arr1 along axis 1:\n",
            " [[1 2 5 6]\n",
            " [3 4 7 8]]\n"
          ]
        }
      ],
      "source": [
        "# append arr2 to arr1\n",
        "\n",
        "# Append arr2 to arr1 along axis 0 (rows)\n",
        "result = np.append(arr1, arr2, axis=0)\n",
        "print(\"Appending arr2 to arr1 along axis 0:\\n\", result)\n",
        "\n",
        "# If you want to append along axis 1 (columns), ensure shapes are compatible\n",
        "result_axis1 = np.append(arr1, arr2, axis=1)\n",
        "print(\"\\nAppending arr2 to arr1 along axis 1:\\n\", result_axis1)"
      ]
    },
    {
      "cell_type": "markdown",
      "metadata": {
        "id": "Jb4EPxL4YulN"
      },
      "source": [
        "Lets use insert() function which Inserts values into array before specified index value"
      ]
    },
    {
      "cell_type": "code",
      "execution_count": 14,
      "metadata": {
        "id": "2pF_KctFYulN",
        "colab": {
          "base_uri": "https://localhost:8080/"
        },
        "outputId": "9420557a-bccb-43fd-fc14-6452a4857ad8"
      },
      "outputs": [
        {
          "output_type": "stream",
          "name": "stdout",
          "text": [
            "Array x2 after insertion:\n",
            " [ 1  2  3  4 10 20 30  5  6  7  8  9 10]\n"
          ]
        }
      ],
      "source": [
        "# Inserts values into array x1 before index 4 with elements of x4\n",
        "\n",
        "# Define the arrays\n",
        "x1 = np.array([1, 2, 3, 4, 5, 6, 7, 8, 9, 10])\n",
        "x4 = np.array([10, 20, 30])\n",
        "\n",
        "# Insert values from x4 into x1 before index 4\n",
        "x2= np.insert(x1, 4, x4)\n",
        "\n",
        "# Print the result\n",
        "print(\"Array x2 after insertion:\\n\", x2)\n"
      ]
    },
    {
      "cell_type": "markdown",
      "metadata": {
        "id": "uTDcvWAPYulN"
      },
      "source": [
        "You can see in above output we have inserted all the elements of x4 before index 4 in array x1."
      ]
    },
    {
      "cell_type": "code",
      "execution_count": 15,
      "metadata": {
        "id": "btEqORsVYulN",
        "colab": {
          "base_uri": "https://localhost:8080/"
        },
        "outputId": "387c4f8d-ea04-409e-b494-d37383453976"
      },
      "outputs": [
        {
          "output_type": "stream",
          "name": "stdout",
          "text": [
            "Array after deleting the 2nd element:\n",
            " [ 1  3  4 10 20 30  5  6  7  8  9 10]\n"
          ]
        }
      ],
      "source": [
        "# delete 2nd element from array x2\n",
        "\n",
        "result1 = np.delete(x2, 1)\n",
        "\n",
        "\n",
        "# Print the result\n",
        "print(\"Array after deleting the 2nd element:\\n\", result1)"
      ]
    },
    {
      "cell_type": "markdown",
      "metadata": {
        "id": "HcSC-kfxYulO"
      },
      "source": [
        "Did you see? 2 value is deleted from x2 which was at index position 2"
      ]
    },
    {
      "cell_type": "markdown",
      "metadata": {
        "id": "3XDGaMkZYulS"
      },
      "source": [
        "Good Job learner!"
      ]
    },
    {
      "cell_type": "code",
      "source": [],
      "metadata": {
        "id": "CSpHyauaC9Y4"
      },
      "execution_count": null,
      "outputs": []
    }
  ],
  "metadata": {
    "kernelspec": {
      "display_name": "Python 3",
      "language": "python",
      "name": "python3"
    },
    "language_info": {
      "codemirror_mode": {
        "name": "ipython",
        "version": 3
      },
      "file_extension": ".py",
      "mimetype": "text/x-python",
      "name": "python",
      "nbconvert_exporter": "python",
      "pygments_lexer": "ipython3",
      "version": "3.8.5"
    },
    "colab": {
      "provenance": []
    }
  },
  "nbformat": 4,
  "nbformat_minor": 0
}